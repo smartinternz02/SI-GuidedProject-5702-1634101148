{
 "cells": [
  {
   "cell_type": "markdown",
   "metadata": {},
   "source": [
    "# 1. IMPORT LIBRARIES"
   ]
  },
  {
   "cell_type": "code",
   "execution_count": 1,
   "metadata": {},
   "outputs": [],
   "source": [
    "from tensorflow.keras.models import Sequential\n",
    "from tensorflow.keras.layers import Dense, Convolution2D, MaxPooling2D, Flatten\n",
    "from tensorflow.keras.preprocessing.image import ImageDataGenerator"
   ]
  },
  {
   "cell_type": "markdown",
   "metadata": {},
   "source": [
    "# 2. IMAGE PREPROCESSING"
   ]
  },
  {
   "cell_type": "code",
   "execution_count": 2,
   "metadata": {},
   "outputs": [],
   "source": [
    "train_data = ImageDataGenerator(rescale = 1./224, shear_range = 0.2, zoom_range = 0.2, horizontal_flip = True)\n",
    "test_data = ImageDataGenerator(rescale = 1./224)"
   ]
  },
  {
   "cell_type": "code",
   "execution_count": 5,
   "metadata": {},
   "outputs": [
    {
     "name": "stdout",
     "output_type": "stream",
     "text": [
      "Found 200 images belonging to 2 classes.\n",
      "Found 200 images belonging to 2 classes.\n"
     ]
    }
   ],
   "source": [
    "x_train = train_data.flow_from_directory(r'C:\\Users\\Sri_Harshitha\\Desktop\\BC_Project\\Dataset\\TRAIN', target_size = (32,32), batch_size = 32, class_mode = \"binary\")\n",
    "x_test = test_data.flow_from_directory(r'C:\\Users\\Sri_Harshitha\\Desktop\\BC_Project\\Dataset\\TEST', target_size = (32,32), batch_size = 32, class_mode = \"binary\")"
   ]
  },
  {
   "cell_type": "raw",
   "metadata": {},
   "source": [
    "HERE THE TWO CLASSES ARE BENIGN AND MALIGNANT\n",
    "BENIGN - CLASS 0\n",
    "MALIGNANT - CLASS 1"
   ]
  },
  {
   "cell_type": "markdown",
   "metadata": {},
   "source": [
    "# 3. INITIALIZING THE MODEL"
   ]
  },
  {
   "cell_type": "code",
   "execution_count": 6,
   "metadata": {},
   "outputs": [],
   "source": [
    "detector = Sequential()"
   ]
  },
  {
   "cell_type": "markdown",
   "metadata": {},
   "source": [
    "# 4. ADDING CONVOLUTION LAYER"
   ]
  },
  {
   "cell_type": "code",
   "execution_count": 7,
   "metadata": {},
   "outputs": [],
   "source": [
    "detector.add(Convolution2D(32,(3,3), input_shape = (32,32,3)))\n",
    "# the 3 in input shape indicates it is coloured image(RGB)\n",
    "# (3,3) indicates feature detector matrix size\n",
    "# 32 in no of feature detectors"
   ]
  },
  {
   "cell_type": "markdown",
   "metadata": {},
   "source": [
    "# 5. ADDING POOLING LAYER"
   ]
  },
  {
   "cell_type": "code",
   "execution_count": 8,
   "metadata": {},
   "outputs": [],
   "source": [
    "detector.add(MaxPooling2D((2,2)))\n",
    "# (2,2) is pooling matrix size"
   ]
  },
  {
   "cell_type": "code",
   "execution_count": 9,
   "metadata": {},
   "outputs": [],
   "source": [
    "detector.add(Convolution2D(64,(3,3), input_shape = (32,32,3)))\n",
    "detector.add(MaxPooling2D((2,2)))"
   ]
  },
  {
   "cell_type": "code",
   "execution_count": 10,
   "metadata": {},
   "outputs": [],
   "source": [
    "detector.add(Convolution2D(128,(3,3), input_shape = (32,32,3)))\n",
    "detector.add(MaxPooling2D((2,2)))"
   ]
  },
  {
   "cell_type": "markdown",
   "metadata": {},
   "source": [
    "# 6. ADDING FLATTEN LAYER"
   ]
  },
  {
   "cell_type": "code",
   "execution_count": 11,
   "metadata": {},
   "outputs": [],
   "source": [
    "detector.add(Flatten())  #gives input layer"
   ]
  },
  {
   "cell_type": "markdown",
   "metadata": {},
   "source": [
    "# 7. ADDING HIDDEN LAYER"
   ]
  },
  {
   "cell_type": "code",
   "execution_count": 12,
   "metadata": {},
   "outputs": [],
   "source": [
    "detector.add(Dense(units = 512, kernel_initializer = \"random_uniform\", activation = \"relu\"))"
   ]
  },
  {
   "cell_type": "markdown",
   "metadata": {},
   "source": [
    "# 8. ADDING OUTPUT LAYER"
   ]
  },
  {
   "cell_type": "code",
   "execution_count": 13,
   "metadata": {},
   "outputs": [],
   "source": [
    "detector.add(Dense(units = 1, kernel_initializer = \"random_uniform\", activation = \"sigmoid\"))"
   ]
  },
  {
   "cell_type": "markdown",
   "metadata": {},
   "source": [
    "# 9. MODEL TRAINING"
   ]
  },
  {
   "cell_type": "code",
   "execution_count": 14,
   "metadata": {},
   "outputs": [],
   "source": [
    "detector.compile(optimizer = \"adam\", loss = \"binary_crossentropy\", metrics = [\"accuracy\"])  "
   ]
  },
  {
   "cell_type": "code",
   "execution_count": 15,
   "metadata": {},
   "outputs": [
    {
     "name": "stdout",
     "output_type": "stream",
     "text": [
      "Epoch 1/100\n",
      "6/6 [==============================] - 6s 932ms/step - loss: 0.6876 - accuracy: 0.5714 - val_loss: 0.6936 - val_accuracy: 0.6250\n",
      "Epoch 2/100\n",
      "6/6 [==============================] - 1s 116ms/step - loss: 0.6214 - accuracy: 0.5952 - val_loss: 0.8109 - val_accuracy: 0.3385\n",
      "Epoch 3/100\n",
      "6/6 [==============================] - 1s 116ms/step - loss: 0.4297 - accuracy: 0.8929 - val_loss: 1.3764 - val_accuracy: 0.3802\n",
      "Epoch 4/100\n",
      "6/6 [==============================] - 1s 102ms/step - loss: 0.2910 - accuracy: 0.8869 - val_loss: 2.5530 - val_accuracy: 0.3646\n",
      "Epoch 5/100\n",
      "6/6 [==============================] - 1s 100ms/step - loss: 0.2433 - accuracy: 0.9464 - val_loss: 2.9745 - val_accuracy: 0.3906\n",
      "Epoch 6/100\n",
      "6/6 [==============================] - 1s 118ms/step - loss: 0.2024 - accuracy: 0.9405 - val_loss: 3.2423 - val_accuracy: 0.3281\n",
      "Epoch 7/100\n",
      "6/6 [==============================] - 1s 110ms/step - loss: 0.2338 - accuracy: 0.9345 - val_loss: 2.8402 - val_accuracy: 0.3438\n",
      "Epoch 8/100\n",
      "6/6 [==============================] - 1s 121ms/step - loss: 0.1605 - accuracy: 0.9531 - val_loss: 2.7842 - val_accuracy: 0.4010\n",
      "Epoch 9/100\n",
      "6/6 [==============================] - 1s 121ms/step - loss: 0.2474 - accuracy: 0.9048 - val_loss: 2.0421 - val_accuracy: 0.3281\n",
      "Epoch 10/100\n",
      "6/6 [==============================] - 1s 115ms/step - loss: 0.1789 - accuracy: 0.9464 - val_loss: 2.2052 - val_accuracy: 0.3333\n",
      "Epoch 11/100\n",
      "6/6 [==============================] - 1s 100ms/step - loss: 0.1215 - accuracy: 0.9702 - val_loss: 2.3423 - val_accuracy: 0.3750\n",
      "Epoch 12/100\n",
      "6/6 [==============================] - 1s 87ms/step - loss: 0.1542 - accuracy: 0.9762 - val_loss: 2.3528 - val_accuracy: 0.3281\n",
      "Epoch 13/100\n",
      "6/6 [==============================] - 1s 92ms/step - loss: 0.1474 - accuracy: 0.9464 - val_loss: 2.8052 - val_accuracy: 0.3229\n",
      "Epoch 14/100\n",
      "6/6 [==============================] - 1s 85ms/step - loss: 0.1278 - accuracy: 0.9762 - val_loss: 2.9954 - val_accuracy: 0.3385\n",
      "Epoch 15/100\n",
      "6/6 [==============================] - 1s 112ms/step - loss: 0.1653 - accuracy: 0.9643 - val_loss: 2.6735 - val_accuracy: 0.3802\n",
      "Epoch 16/100\n",
      "6/6 [==============================] - 1s 87ms/step - loss: 0.1867 - accuracy: 0.9583 - val_loss: 2.2148 - val_accuracy: 0.3385\n",
      "Epoch 17/100\n",
      "6/6 [==============================] - 1s 112ms/step - loss: 0.1248 - accuracy: 0.9583 - val_loss: 2.6268 - val_accuracy: 0.3229\n",
      "Epoch 18/100\n",
      "6/6 [==============================] - 1s 103ms/step - loss: 0.1183 - accuracy: 0.9643 - val_loss: 2.4219 - val_accuracy: 0.3438\n",
      "Epoch 19/100\n",
      "6/6 [==============================] - 1s 90ms/step - loss: 0.0901 - accuracy: 0.9702 - val_loss: 2.6755 - val_accuracy: 0.4010\n",
      "Epoch 20/100\n",
      "6/6 [==============================] - 1s 102ms/step - loss: 0.1619 - accuracy: 0.9524 - val_loss: 2.7360 - val_accuracy: 0.3542\n",
      "Epoch 21/100\n",
      "6/6 [==============================] - 1s 87ms/step - loss: 0.1351 - accuracy: 0.9643 - val_loss: 1.8511 - val_accuracy: 0.5260\n",
      "Epoch 22/100\n",
      "6/6 [==============================] - 1s 107ms/step - loss: 0.1468 - accuracy: 0.9464 - val_loss: 2.7878 - val_accuracy: 0.3542\n",
      "Epoch 23/100\n",
      "6/6 [==============================] - 1s 98ms/step - loss: 0.1237 - accuracy: 0.9524 - val_loss: 2.8712 - val_accuracy: 0.3854\n",
      "Epoch 24/100\n",
      "6/6 [==============================] - 1s 96ms/step - loss: 0.1156 - accuracy: 0.9643 - val_loss: 2.3107 - val_accuracy: 0.3906\n",
      "Epoch 25/100\n",
      "6/6 [==============================] - 1s 95ms/step - loss: 0.1315 - accuracy: 0.9643 - val_loss: 2.3074 - val_accuracy: 0.3490\n",
      "Epoch 26/100\n",
      "6/6 [==============================] - 1s 95ms/step - loss: 0.1078 - accuracy: 0.9524 - val_loss: 3.0795 - val_accuracy: 0.3438\n",
      "Epoch 27/100\n",
      "6/6 [==============================] - 1s 93ms/step - loss: 0.0774 - accuracy: 0.9702 - val_loss: 3.1040 - val_accuracy: 0.3750\n",
      "Epoch 28/100\n",
      "6/6 [==============================] - 1s 92ms/step - loss: 0.1026 - accuracy: 0.9643 - val_loss: 2.1766 - val_accuracy: 0.4010\n",
      "Epoch 29/100\n",
      "6/6 [==============================] - 1s 97ms/step - loss: 0.0974 - accuracy: 0.9583 - val_loss: 3.3001 - val_accuracy: 0.3281\n",
      "Epoch 30/100\n",
      "6/6 [==============================] - 1s 107ms/step - loss: 0.0694 - accuracy: 0.9821 - val_loss: 5.6650 - val_accuracy: 0.3125\n",
      "Epoch 31/100\n",
      "6/6 [==============================] - 1s 111ms/step - loss: 0.1930 - accuracy: 0.9524 - val_loss: 4.1954 - val_accuracy: 0.3333\n",
      "Epoch 32/100\n",
      "6/6 [==============================] - 1s 88ms/step - loss: 0.0991 - accuracy: 0.9762 - val_loss: 2.7188 - val_accuracy: 0.3906\n",
      "Epoch 33/100\n",
      "6/6 [==============================] - 1s 111ms/step - loss: 0.1020 - accuracy: 0.9643 - val_loss: 2.4124 - val_accuracy: 0.3646\n",
      "Epoch 34/100\n",
      "6/6 [==============================] - 1s 103ms/step - loss: 0.1086 - accuracy: 0.9583 - val_loss: 3.0874 - val_accuracy: 0.3958\n",
      "Epoch 35/100\n",
      "6/6 [==============================] - 1s 102ms/step - loss: 0.1042 - accuracy: 0.9762 - val_loss: 2.6096 - val_accuracy: 0.4062\n",
      "Epoch 36/100\n",
      "6/6 [==============================] - 1s 105ms/step - loss: 0.1165 - accuracy: 0.9643 - val_loss: 4.1776 - val_accuracy: 0.3333\n",
      "Epoch 37/100\n",
      "6/6 [==============================] - 1s 88ms/step - loss: 0.2419 - accuracy: 0.9286 - val_loss: 3.8086 - val_accuracy: 0.3594\n",
      "Epoch 38/100\n",
      "6/6 [==============================] - 1s 86ms/step - loss: 0.1008 - accuracy: 0.9702 - val_loss: 1.9033 - val_accuracy: 0.3906\n",
      "Epoch 39/100\n",
      "6/6 [==============================] - 1s 104ms/step - loss: 0.1113 - accuracy: 0.9792 - val_loss: 2.3318 - val_accuracy: 0.3854\n",
      "Epoch 40/100\n",
      "6/6 [==============================] - 1s 87ms/step - loss: 0.0727 - accuracy: 0.9881 - val_loss: 3.6481 - val_accuracy: 0.3490\n",
      "Epoch 41/100\n",
      "6/6 [==============================] - 1s 88ms/step - loss: 0.0634 - accuracy: 0.9702 - val_loss: 4.4258 - val_accuracy: 0.3333\n",
      "Epoch 42/100\n",
      "6/6 [==============================] - 1s 87ms/step - loss: 0.0843 - accuracy: 0.9821 - val_loss: 3.8931 - val_accuracy: 0.3438\n",
      "Epoch 43/100\n",
      "6/6 [==============================] - 1s 96ms/step - loss: 0.1193 - accuracy: 0.9702 - val_loss: 3.8253 - val_accuracy: 0.3490\n",
      "Epoch 44/100\n",
      "6/6 [==============================] - 1s 104ms/step - loss: 0.0675 - accuracy: 0.9702 - val_loss: 4.0699 - val_accuracy: 0.3646\n",
      "Epoch 45/100\n",
      "6/6 [==============================] - 1s 123ms/step - loss: 0.0530 - accuracy: 0.9821 - val_loss: 3.7452 - val_accuracy: 0.3438\n",
      "Epoch 46/100\n",
      "6/6 [==============================] - 1s 154ms/step - loss: 0.0609 - accuracy: 0.9762 - val_loss: 3.3414 - val_accuracy: 0.4062\n",
      "Epoch 47/100\n",
      "6/6 [==============================] - 1s 99ms/step - loss: 0.0628 - accuracy: 0.9762 - val_loss: 3.7170 - val_accuracy: 0.3438\n",
      "Epoch 48/100\n",
      "6/6 [==============================] - 1s 99ms/step - loss: 0.0965 - accuracy: 0.9702 - val_loss: 3.0884 - val_accuracy: 0.3490\n",
      "Epoch 49/100\n",
      "6/6 [==============================] - 1s 114ms/step - loss: 0.0772 - accuracy: 0.9688 - val_loss: 4.2391 - val_accuracy: 0.3229\n",
      "Epoch 50/100\n",
      "6/6 [==============================] - 1s 113ms/step - loss: 0.0272 - accuracy: 0.9821 - val_loss: 5.3580 - val_accuracy: 0.3385\n",
      "Epoch 51/100\n",
      "6/6 [==============================] - 1s 100ms/step - loss: 0.0351 - accuracy: 0.9881 - val_loss: 5.2089 - val_accuracy: 0.3385\n",
      "Epoch 52/100\n",
      "6/6 [==============================] - 1s 95ms/step - loss: 0.0413 - accuracy: 0.9881 - val_loss: 4.4418 - val_accuracy: 0.4010\n",
      "Epoch 53/100\n",
      "6/6 [==============================] - 1s 108ms/step - loss: 0.1227 - accuracy: 0.9583 - val_loss: 4.9832 - val_accuracy: 0.3438\n",
      "Epoch 54/100\n",
      "6/6 [==============================] - 1s 95ms/step - loss: 0.0364 - accuracy: 0.9821 - val_loss: 4.9063 - val_accuracy: 0.3125\n",
      "Epoch 55/100\n",
      "6/6 [==============================] - 1s 102ms/step - loss: 0.0567 - accuracy: 0.9844 - val_loss: 4.8502 - val_accuracy: 0.3281\n",
      "Epoch 56/100\n",
      "6/6 [==============================] - 1s 95ms/step - loss: 0.0389 - accuracy: 0.9881 - val_loss: 4.9065 - val_accuracy: 0.3281\n",
      "Epoch 57/100\n",
      "6/6 [==============================] - 1s 122ms/step - loss: 0.0443 - accuracy: 0.9881 - val_loss: 3.4646 - val_accuracy: 0.3698\n",
      "Epoch 58/100\n",
      "6/6 [==============================] - 1s 115ms/step - loss: 0.0535 - accuracy: 0.9821 - val_loss: 3.4165 - val_accuracy: 0.4062\n",
      "Epoch 59/100\n",
      "6/6 [==============================] - 1s 113ms/step - loss: 0.2010 - accuracy: 0.9115 - val_loss: 4.4634 - val_accuracy: 0.3281\n",
      "Epoch 60/100\n",
      "6/6 [==============================] - 1s 108ms/step - loss: 0.2064 - accuracy: 0.9531 - val_loss: 4.5548 - val_accuracy: 0.3542\n",
      "Epoch 61/100\n",
      "6/6 [==============================] - 1s 114ms/step - loss: 0.1542 - accuracy: 0.9345 - val_loss: 3.6684 - val_accuracy: 0.3854\n",
      "Epoch 62/100\n",
      "6/6 [==============================] - 1s 128ms/step - loss: 0.0871 - accuracy: 0.9643 - val_loss: 5.5928 - val_accuracy: 0.3750\n",
      "Epoch 63/100\n",
      "6/6 [==============================] - 1s 99ms/step - loss: 0.1467 - accuracy: 0.9702 - val_loss: 6.7944 - val_accuracy: 0.3438\n",
      "Epoch 64/100\n",
      "6/6 [==============================] - 1s 97ms/step - loss: 0.0882 - accuracy: 0.9881 - val_loss: 4.1993 - val_accuracy: 0.3490\n",
      "Epoch 65/100\n",
      "6/6 [==============================] - 1s 111ms/step - loss: 0.0556 - accuracy: 0.9881 - val_loss: 3.9688 - val_accuracy: 0.3542\n",
      "Epoch 66/100\n",
      "6/6 [==============================] - 1s 117ms/step - loss: 0.0404 - accuracy: 0.9844 - val_loss: 4.4785 - val_accuracy: 0.3490\n",
      "Epoch 67/100\n",
      "6/6 [==============================] - 1s 167ms/step - loss: 0.0317 - accuracy: 0.9881 - val_loss: 4.9036 - val_accuracy: 0.3229\n",
      "Epoch 68/100\n",
      "6/6 [==============================] - 1s 91ms/step - loss: 0.0313 - accuracy: 0.9940 - val_loss: 4.5861 - val_accuracy: 0.3646\n",
      "Epoch 69/100\n",
      "6/6 [==============================] - 1s 94ms/step - loss: 0.0236 - accuracy: 0.9940 - val_loss: 4.2643 - val_accuracy: 0.3490\n",
      "Epoch 70/100\n",
      "6/6 [==============================] - 1s 113ms/step - loss: 0.0170 - accuracy: 1.0000 - val_loss: 4.8004 - val_accuracy: 0.3646\n",
      "Epoch 71/100\n",
      "6/6 [==============================] - 1s 89ms/step - loss: 0.0224 - accuracy: 0.9881 - val_loss: 4.9913 - val_accuracy: 0.3594\n",
      "Epoch 72/100\n",
      "6/6 [==============================] - 1s 100ms/step - loss: 0.0154 - accuracy: 1.0000 - val_loss: 5.4533 - val_accuracy: 0.3438\n",
      "Epoch 73/100\n",
      "6/6 [==============================] - 1s 110ms/step - loss: 0.0299 - accuracy: 0.9821 - val_loss: 5.8637 - val_accuracy: 0.3542\n",
      "Epoch 74/100\n",
      "6/6 [==============================] - 1s 134ms/step - loss: 0.0332 - accuracy: 0.9821 - val_loss: 5.4226 - val_accuracy: 0.3438\n",
      "Epoch 75/100\n",
      "6/6 [==============================] - 1s 122ms/step - loss: 0.0395 - accuracy: 0.9821 - val_loss: 5.0342 - val_accuracy: 0.3646\n",
      "Epoch 76/100\n",
      "6/6 [==============================] - 1s 106ms/step - loss: 0.0302 - accuracy: 0.9948 - val_loss: 5.0049 - val_accuracy: 0.3802\n",
      "Epoch 77/100\n",
      "6/6 [==============================] - 1s 102ms/step - loss: 0.0168 - accuracy: 0.9940 - val_loss: 5.0852 - val_accuracy: 0.3646\n",
      "Epoch 78/100\n",
      "6/6 [==============================] - 1s 109ms/step - loss: 0.0216 - accuracy: 0.9881 - val_loss: 5.5276 - val_accuracy: 0.3542\n",
      "Epoch 79/100\n",
      "6/6 [==============================] - 1s 105ms/step - loss: 0.0131 - accuracy: 1.0000 - val_loss: 5.7785 - val_accuracy: 0.3438\n",
      "Epoch 80/100\n",
      "6/6 [==============================] - 1s 139ms/step - loss: 0.0128 - accuracy: 1.0000 - val_loss: 5.4989 - val_accuracy: 0.3438\n",
      "Epoch 81/100\n",
      "6/6 [==============================] - 1s 150ms/step - loss: 0.0068 - accuracy: 1.0000 - val_loss: 5.3638 - val_accuracy: 0.3542\n",
      "Epoch 82/100\n",
      "6/6 [==============================] - 1s 112ms/step - loss: 0.0046 - accuracy: 1.0000 - val_loss: 5.7577 - val_accuracy: 0.3542\n",
      "Epoch 83/100\n",
      "6/6 [==============================] - 1s 114ms/step - loss: 0.0031 - accuracy: 1.0000 - val_loss: 5.8596 - val_accuracy: 0.3490\n",
      "Epoch 84/100\n",
      "6/6 [==============================] - 1s 99ms/step - loss: 0.0078 - accuracy: 1.0000 - val_loss: 5.9920 - val_accuracy: 0.3542\n",
      "Epoch 85/100\n",
      "6/6 [==============================] - 1s 110ms/step - loss: 0.0206 - accuracy: 0.9881 - val_loss: 5.3886 - val_accuracy: 0.3854\n",
      "Epoch 86/100\n",
      "6/6 [==============================] - 1s 119ms/step - loss: 0.0342 - accuracy: 0.9948 - val_loss: 6.2371 - val_accuracy: 0.3646\n",
      "Epoch 87/100\n",
      "6/6 [==============================] - 1s 126ms/step - loss: 0.0053 - accuracy: 1.0000 - val_loss: 7.5306 - val_accuracy: 0.3542\n",
      "Epoch 88/100\n",
      "6/6 [==============================] - 1s 110ms/step - loss: 0.0135 - accuracy: 0.9940 - val_loss: 7.2468 - val_accuracy: 0.3385\n",
      "Epoch 89/100\n",
      "6/6 [==============================] - 1s 102ms/step - loss: 0.0059 - accuracy: 1.0000 - val_loss: 4.8888 - val_accuracy: 0.3854\n",
      "Epoch 90/100\n",
      "6/6 [==============================] - 1s 103ms/step - loss: 0.0368 - accuracy: 0.9896 - val_loss: 8.6383 - val_accuracy: 0.3438\n",
      "Epoch 91/100\n",
      "6/6 [==============================] - 1s 94ms/step - loss: 0.0309 - accuracy: 0.9881 - val_loss: 8.2428 - val_accuracy: 0.3125\n",
      "Epoch 92/100\n",
      "6/6 [==============================] - 1s 116ms/step - loss: 0.0164 - accuracy: 0.9881 - val_loss: 6.6862 - val_accuracy: 0.3281\n",
      "Epoch 93/100\n",
      "6/6 [==============================] - 1s 100ms/step - loss: 0.0072 - accuracy: 1.0000 - val_loss: 6.1907 - val_accuracy: 0.3698\n",
      "Epoch 94/100\n",
      "6/6 [==============================] - 1s 97ms/step - loss: 0.0240 - accuracy: 0.9940 - val_loss: 5.3650 - val_accuracy: 0.3906\n",
      "Epoch 95/100\n",
      "6/6 [==============================] - 1s 125ms/step - loss: 0.0275 - accuracy: 0.9940 - val_loss: 5.3954 - val_accuracy: 0.3698\n",
      "Epoch 96/100\n",
      "6/6 [==============================] - 1s 113ms/step - loss: 0.0127 - accuracy: 1.0000 - val_loss: 5.4708 - val_accuracy: 0.3802\n",
      "Epoch 97/100\n",
      "6/6 [==============================] - 1s 89ms/step - loss: 0.0036 - accuracy: 1.0000 - val_loss: 5.5510 - val_accuracy: 0.3750\n",
      "Epoch 98/100\n",
      "6/6 [==============================] - 1s 154ms/step - loss: 0.0077 - accuracy: 1.0000 - val_loss: 5.3834 - val_accuracy: 0.3646\n",
      "Epoch 99/100\n",
      "6/6 [==============================] - 1s 105ms/step - loss: 0.0046 - accuracy: 1.0000 - val_loss: 4.8839 - val_accuracy: 0.3646\n",
      "Epoch 100/100\n",
      "6/6 [==============================] - 1s 114ms/step - loss: 0.0065 - accuracy: 1.0000 - val_loss: 5.6321 - val_accuracy: 0.3594\n"
     ]
    }
   ],
   "source": [
    "history=detector.fit(x_train,steps_per_epoch=200//32,epochs=100,validation_data=x_test,validation_steps=200//32)"
   ]
  },
  {
   "cell_type": "code",
   "execution_count": 16,
   "metadata": {},
   "outputs": [],
   "source": [
    "detector.save(\"breast_cancer_classifier.h5\")"
   ]
  },
  {
   "cell_type": "markdown",
   "metadata": {},
   "source": [
    "# 10. SAVING THE MODEL"
   ]
  },
  {
   "cell_type": "code",
   "execution_count": 37,
   "metadata": {},
   "outputs": [
    {
     "name": "stdout",
     "output_type": "stream",
     "text": [
      "WARNING:tensorflow:11 out of the last 11 calls to <function Model.make_predict_function.<locals>.predict_function at 0x00000299FF9761F0> triggered tf.function retracing. Tracing is expensive and the excessive number of tracings could be due to (1) creating @tf.function repeatedly in a loop, (2) passing tensors with different shapes, (3) passing Python objects instead of tensors. For (1), please define your @tf.function outside of the loop. For (2), @tf.function has experimental_relax_shapes=True option that relaxes argument shapes that can avoid unnecessary retracing. For (3), please refer to https://www.tensorflow.org/tutorials/customization/performance#python_or_tensor_args and https://www.tensorflow.org/api_docs/python/tf/function for  more details.\n"
     ]
    }
   ],
   "source": [
    "from tensorflow.keras.models import load_model\n",
    "from keras.preprocessing import image\n",
    "import numpy as np\n",
    "model=load_model(r\"breast_cancer_classifier.h5\")\n",
    "img=image.load_img(r\"C:\\Users\\Sri_Harshitha\\Desktop\\BC_Project\\Dataset\\TEST\\1\\10279_idx5_x151_y1251_class1.png\",target_size=(32,32))\n",
    "x=image.img_to_array(img)\n",
    "x=np.expand_dims(x,axis=0)\n",
    "y=model.predict(x)\n",
    "#pred=np.argmax(y, axis=1)"
   ]
  },
  {
   "cell_type": "code",
   "execution_count": 38,
   "metadata": {},
   "outputs": [
    {
     "data": {
      "text/plain": [
       "array([[0.]], dtype=float32)"
      ]
     },
     "execution_count": 38,
     "metadata": {},
     "output_type": "execute_result"
    }
   ],
   "source": [
    "y"
   ]
  },
  {
   "cell_type": "markdown",
   "metadata": {},
   "source": [
    "C:\\Users\\Sri_Harshitha\\Desktop\\BC_Project\\Dataset\\TEST\\0\\10279_idx5_x51_y1201_class0.png\n",
    "C:\\Users\\Sri_Harshitha\\Desktop\\BC_Project\\Dataset\\TEST\\1\\10279_idx5_x151_y1151_class1.png\n"
   ]
  },
  {
   "cell_type": "markdown",
   "metadata": {},
   "source": []
  }
 ],
 "metadata": {
  "interpreter": {
   "hash": "ab10db72ad350fc049b5a3a07763e6e7fe3ecfabc90a64055da7f8ebea0a0519"
  },
  "kernelspec": {
   "display_name": "Python 3.8.8 64-bit ('base': conda)",
   "name": "python3"
  },
  "language_info": {
   "codemirror_mode": {
    "name": "ipython",
    "version": 3
   },
   "file_extension": ".py",
   "mimetype": "text/x-python",
   "name": "python",
   "nbconvert_exporter": "python",
   "pygments_lexer": "ipython3",
   "version": "3.8.8"
  }
 },
 "nbformat": 4,
 "nbformat_minor": 4
}
